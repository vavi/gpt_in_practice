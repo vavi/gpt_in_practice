{
 "cells": [
  {
   "cell_type": "code",
   "execution_count": 1,
   "id": "62199c5f",
   "metadata": {},
   "outputs": [],
   "source": [
    "deployment = \"gpt4\"\n",
    "model = \"gpt-4\""
   ]
  },
  {
   "cell_type": "code",
   "execution_count": 4,
   "id": "0538644c",
   "metadata": {},
   "outputs": [],
   "source": [
    "from langchain.chat_models import AzureChatOpenAI\n",
    "from langchain.memory import ConversationBufferWindowMemory\n",
    "from langchain.chains import ConversationChain\n",
    "# from langchain.chat_models import ChatOpenAI #直接访问OpenAI的GPT服务\n",
    "\n",
    "#llm = ChatOpenAI(model_name=\"gpt-4\", temperature=0) #直接访问OpenAI的GPT服务\n",
    "llm = AzureChatOpenAI(deployment_name = deployment, model_name=model, temperature=0, max_tokens=200) #通过Azure的OpenAI服务\n",
    "\n",
    "\n",
    "memory = ConversationBufferWindowMemory(k=10) \n",
    "\n",
    "\n",
    "def get_response(input):\n",
    "    print(\"------------\")\n",
    "    print(memory.load_memory_variables({}))\n",
    "    print(\"------------\")\n",
    "    conversation_with_memory = ConversationChain(\n",
    "        llm=llm, \n",
    "        memory=memory,\n",
    "        verbose=False\n",
    "    )\n",
    "    return conversation_with_memory.predict(input=input)"
   ]
  },
  {
   "cell_type": "code",
   "execution_count": 5,
   "id": "c8e94eec",
   "metadata": {},
   "outputs": [
    {
     "name": "stdout",
     "output_type": "stream",
     "text": [
      "------------\n",
      "{'history': ''}\n",
      "------------\n",
      "你好！听起来你的健身计划非常规律，这对健康非常有益。作为一个人工智能，我没有实体，所以我没有“今天”的概念，也不能做任何实体活动。但我一直在这里，随时准备回答你的问题，提供帮助，或者进行有趣的对话。\n",
      "------------\n",
      "{'history': 'Human: 你好，今天是周二我要去健身，我一般每周二健身。你今天干什么？\\nAI: 你好！听起来你的健身计划非常规律，这对健康非常有益。作为一个人工智能，我没有实体，所以我没有“今天”的概念，也不能做任何实体活动。但我一直在这里，随时准备回答你的问题，提供帮助，或者进行有趣的对话。'}\n",
      "------------\n",
      "你刚刚提到你一般在每周二健身。\n"
     ]
    }
   ],
   "source": [
    "print(get_response(\"你好，今天是周二我要去健身，我一般每周二健身。你今天干什么？\"))\n",
    "print(get_response(\"我一般周几健身？\"))"
   ]
  },
  {
   "cell_type": "code",
   "execution_count": 4,
   "id": "a0c10c87",
   "metadata": {},
   "outputs": [
    {
     "name": "stdout",
     "output_type": "stream",
     "text": [
      "Running on local URL:  http://127.0.0.1:7864\n",
      "Running on public URL: https://07ca31cb2665a10686.gradio.live\n",
      "\n",
      "This share link expires in 72 hours. For free permanent hosting and GPU upgrades, run `gradio deploy` from Terminal to deploy to Spaces (https://huggingface.co/spaces)\n"
     ]
    },
    {
     "data": {
      "text/html": [
       "<div><iframe src=\"https://07ca31cb2665a10686.gradio.live\" width=\"100%\" height=\"500\" allow=\"autoplay; camera; microphone; clipboard-read; clipboard-write;\" frameborder=\"0\" allowfullscreen></iframe></div>"
      ],
      "text/plain": [
       "<IPython.core.display.HTML object>"
      ]
     },
     "metadata": {},
     "output_type": "display_data"
    },
    {
     "data": {
      "text/plain": []
     },
     "execution_count": 4,
     "metadata": {},
     "output_type": "execute_result"
    },
    {
     "name": "stdout",
     "output_type": "stream",
     "text": [
      "------------\n",
      "{'history': 'Human: 你好，今天是周二我要去健身，我一般每周二健身。你今天干什么？\\nAI: 你好！听起来你的健身计划很规律，这对健康非常有益。作为一个人工智能，我没有实体，所以我不需要健身或进行其他物理活动。我今天的主要任务是提供帮助和信息，回答问题，以及进行各种计算和数据分析。如果你需要任何帮助，比如健身计划的建议，或者其他任何问题，我都会尽力提供帮助。\\nHuman: 我一般周几健身？\\nAI: 你刚刚提到，你一般在每周二进行健身。'}\n",
      "------------\n",
      "------------\n",
      "{'history': 'Human: 你好，今天是周二我要去健身，我一般每周二健身。你今天干什么？\\nAI: 你好！听起来你的健身计划很规律，这对健康非常有益。作为一个人工智能，我没有实体，所以我不需要健身或进行其他物理活动。我今天的主要任务是提供帮助和信息，回答问题，以及进行各种计算和数据分析。如果你需要任何帮助，比如健身计划的建议，或者其他任何问题，我都会尽力提供帮助。\\nHuman: 我一般周几健身？\\nAI: 你刚刚提到，你一般在每周二进行健身。\\nHuman: 你好，我是蔡超\\nAI: 你好，蔡超！很高兴认识你。有什么我可以帮助你的吗？'}\n",
      "------------\n",
      "------------\n",
      "{'history': 'Human: 你好，今天是周二我要去健身，我一般每周二健身。你今天干什么？\\nAI: 你好！听起来你的健身计划很规律，这对健康非常有益。作为一个人工智能，我没有实体，所以我不需要健身或进行其他物理活动。我今天的主要任务是提供帮助和信息，回答问题，以及进行各种计算和数据分析。如果你需要任何帮助，比如健身计划的建议，或者其他任何问题，我都会尽力提供帮助。\\nHuman: 我一般周几健身？\\nAI: 你刚刚提到，你一般在每周二进行健身。\\nHuman: 你好，我是蔡超\\nAI: 你好，蔡超！很高兴认识你。有什么我可以帮助你的吗？\\nHuman: 你还记得我的名字吗？\\nAI: 当然，你刚刚告诉我你的名字是蔡超。'}\n",
      "------------\n",
      "------------\n",
      "{'history': 'Human: 你好，今天是周二我要去健身，我一般每周二健身。你今天干什么？\\nAI: 你好！听起来你的健身计划很规律，这对健康非常有益。作为一个人工智能，我没有实体，所以我不需要健身或进行其他物理活动。我今天的主要任务是提供帮助和信息，回答问题，以及进行各种计算和数据分析。如果你需要任何帮助，比如健身计划的建议，或者其他任何问题，我都会尽力提供帮助。\\nHuman: 我一般周几健身？\\nAI: 你刚刚提到，你一般在每周二进行健身。\\nHuman: 你好，我是蔡超\\nAI: 你好，蔡超！很高兴认识你。有什么我可以帮助你的吗？\\nHuman: 你还记得我的名字吗？\\nAI: 当然，你刚刚告诉我你的名字是蔡超。\\nHuman: 你好，我是蔡超\\nAI: 你好，蔡超！你刚刚已经告诉我你的名字了，有什么我可以帮助你的吗？'}\n",
      "------------\n",
      "------------\n",
      "{'history': 'Human: 你好，今天是周二我要去健身，我一般每周二健身。你今天干什么？\\nAI: 你好！听起来你的健身计划很规律，这对健康非常有益。作为一个人工智能，我没有实体，所以我不需要健身或进行其他物理活动。我今天的主要任务是提供帮助和信息，回答问题，以及进行各种计算和数据分析。如果你需要任何帮助，比如健身计划的建议，或者其他任何问题，我都会尽力提供帮助。\\nHuman: 我一般周几健身？\\nAI: 你刚刚提到，你一般在每周二进行健身。\\nHuman: 你好，我是蔡超\\nAI: 你好，蔡超！很高兴认识你。有什么我可以帮助你的吗？\\nHuman: 你还记得我的名字吗？\\nAI: 当然，你刚刚告诉我你的名字是蔡超。\\nHuman: 你好，我是蔡超\\nAI: 你好，蔡超！你刚刚已经告诉我你的名字了，有什么我可以帮助你的吗？\\nHuman: 你还记得我的名字嘛\\nAI: 是的，我记得你的名字，你是蔡超。'}\n",
      "------------\n",
      "------------\n",
      "{'history': 'Human: 你好，今天是周二我要去健身，我一般每周二健身。你今天干什么？\\nAI: 你好！听起来你的健身计划很规律，这对健康非常有益。作为一个人工智能，我没有实体，所以我不需要健身或进行其他物理活动。我今天的主要任务是提供帮助和信息，回答问题，以及进行各种计算和数据分析。如果你需要任何帮助，比如健身计划的建议，或者其他任何问题，我都会尽力提供帮助。\\nHuman: 我一般周几健身？\\nAI: 你刚刚提到，你一般在每周二进行健身。\\nHuman: 你好，我是蔡超\\nAI: 你好，蔡超！很高兴认识你。有什么我可以帮助你的吗？\\nHuman: 你还记得我的名字吗？\\nAI: 当然，你刚刚告诉我你的名字是蔡超。\\nHuman: 你好，我是蔡超\\nAI: 你好，蔡超！你刚刚已经告诉我你的名字了，有什么我可以帮助你的吗？\\nHuman: 你还记得我的名字嘛\\nAI: 是的，我记得你的名字，你是蔡超。\\nHuman: 你好\\nAI: 你好，蔡超！有什么我可以帮助你的吗？'}\n",
      "------------\n",
      "------------\n",
      "{'history': 'Human: 你好，今天是周二我要去健身，我一般每周二健身。你今天干什么？\\nAI: 你好！听起来你的健身计划很规律，这对健康非常有益。作为一个人工智能，我没有实体，所以我不需要健身或进行其他物理活动。我今天的主要任务是提供帮助和信息，回答问题，以及进行各种计算和数据分析。如果你需要任何帮助，比如健身计划的建议，或者其他任何问题，我都会尽力提供帮助。\\nHuman: 我一般周几健身？\\nAI: 你刚刚提到，你一般在每周二进行健身。\\nHuman: 你好，我是蔡超\\nAI: 你好，蔡超！很高兴认识你。有什么我可以帮助你的吗？\\nHuman: 你还记得我的名字吗？\\nAI: 当然，你刚刚告诉我你的名字是蔡超。\\nHuman: 你好，我是蔡超\\nAI: 你好，蔡超！你刚刚已经告诉我你的名字了，有什么我可以帮助你的吗？\\nHuman: 你还记得我的名字嘛\\nAI: 是的，我记得你的名字，你是蔡超。\\nHuman: 你好\\nAI: 你好，蔡超！有什么我可以帮助你的吗？'}\n",
      "------------\n"
     ]
    },
    {
     "name": "stderr",
     "output_type": "stream",
     "text": [
      "Retrying langchain.chat_models.openai.ChatOpenAI.completion_with_retry.<locals>._completion_with_retry in 4.0 seconds as it raised APIConnectionError: Error communicating with OpenAI: ('Connection aborted.', RemoteDisconnected('Remote end closed connection without response')).\n"
     ]
    }
   ],
   "source": [
    "import gradio as gr\n",
    "def respond(message, chat_history):\n",
    "    bot_message = get_response(message)\n",
    "    chat_history.append((message, bot_message))\n",
    "    return \"\", chat_history\n",
    "\n",
    "with gr.Blocks() as demo:\n",
    "    chatbot = gr.Chatbot(height=300) #just to fit the notebook\n",
    "    msg = gr.Textbox(label=\"Prompt\")\n",
    "    btn = gr.Button(\"Submit\")\n",
    "    clear = gr.ClearButton(components=[msg, chatbot], value=\"Clear console\")\n",
    "\n",
    "    btn.click(respond, inputs=[msg, chatbot], outputs=[msg, chatbot])\n",
    "    msg.submit(respond, inputs=[msg, chatbot], outputs=[msg, chatbot]) #Press enter to submit\n",
    "gr.close_all()\n",
    "demo.launch(share=True)"
   ]
  },
  {
   "cell_type": "code",
   "execution_count": null,
   "id": "160f32ad",
   "metadata": {},
   "outputs": [],
   "source": []
  },
  {
   "cell_type": "code",
   "execution_count": null,
   "id": "b40f377c",
   "metadata": {},
   "outputs": [],
   "source": []
  }
 ],
 "metadata": {
  "kernelspec": {
   "display_name": "Python 3 (ipykernel)",
   "language": "python",
   "name": "python3"
  },
  "language_info": {
   "codemirror_mode": {
    "name": "ipython",
    "version": 3
   },
   "file_extension": ".py",
   "mimetype": "text/x-python",
   "name": "python",
   "nbconvert_exporter": "python",
   "pygments_lexer": "ipython3",
   "version": "3.11.4"
  }
 },
 "nbformat": 4,
 "nbformat_minor": 5
}
