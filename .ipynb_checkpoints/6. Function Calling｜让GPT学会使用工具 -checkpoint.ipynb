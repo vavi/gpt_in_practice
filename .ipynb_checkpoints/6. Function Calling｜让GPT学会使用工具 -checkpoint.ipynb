{
 "cells": [
  {
   "cell_type": "code",
   "execution_count": 1,
   "id": "4b90a557",
   "metadata": {},
   "outputs": [],
   "source": [
    "deployment = \"gpt4\"\n",
    "model = \"gpt-4\""
   ]
  },
  {
   "cell_type": "code",
   "execution_count": 5,
   "id": "23dae813",
   "metadata": {},
   "outputs": [],
   "source": [
    "def get_current_cluster_state(cluster_name):\n",
    "    print(f\"cluster:{cluster_name}\")\n",
    "    return  \"\"\"ERROR: Failed to pull image \"chaocai/docker/dsp:latest\"\"\""
   ]
  },
  {
   "cell_type": "code",
   "execution_count": 6,
   "id": "d9469fb0",
   "metadata": {},
   "outputs": [],
   "source": [
    "import openai\n",
    "import json\n",
    "\n",
    "\n",
    "funcs = {\"get_current_cluster_state\": get_current_cluster_state}\n",
    "\n",
    "\n",
    "def run(input):\n",
    "    msg=[{\"role\":\"user\",\"content\":input}]\n",
    "    ret = run_conversation(msg)\n",
    "    return ret[\"content\"] \n",
    "\n",
    "def run_conversation(msg):\n",
    "    response = openai.ChatCompletion.create(\n",
    "        engine=deployment,\n",
    "        model=model,\n",
    "        messages=msg,\n",
    "        functions=[\n",
    "            {\n",
    "                \"name\": \"get_current_cluster_state\",\n",
    "                \"description\": \"Get the current state in a given cluster\",\n",
    "                \"parameters\": {\n",
    "                    \"type\": \"object\",\n",
    "                    \"properties\": {\n",
    "                        \"cluster_name\": {\n",
    "                            \"type\": \"string\",\n",
    "                            \"description\": \"the name of the cluster\",\n",
    "                        },\n",
    "                        \n",
    "                    },\n",
    "                    \"required\": [\"cluster_name\"],\n",
    "                },\n",
    "            }\n",
    "        ],\n",
    "        function_call=\"auto\",\n",
    "    )\n",
    "\n",
    "    message =  response[\"choices\"][0][\"message\"]\n",
    "    print(\"----- message ----\")\n",
    "    print(message)\n",
    "    print(\"----- message ----\")\n",
    "    # 如果不需要调用function，则直接返回结果\n",
    "    if not message.get(\"function_call\"):\n",
    "        return message\n",
    "    \n",
    "    # 获取调用的方法\n",
    "    function_name = message[\"function_call\"][\"name\"]\n",
    "    function_args = json.loads(message[\"function_call\"][\"arguments\"])\n",
    "    print(function_args)\n",
    "    res = funcs[function_name](function_args[\"cluster_name\"])\n",
    "    message[\"content\"]=None\n",
    "    msg.append(message)\n",
    "    msg.append({\n",
    "                \"role\": \"function\",\n",
    "                \"name\": function_name,\n",
    "                \"content\": res,\n",
    "            })\n",
    "    return run_conversation(msg)\n",
    "   "
   ]
  },
  {
   "cell_type": "code",
   "execution_count": 7,
   "id": "b6856718",
   "metadata": {},
   "outputs": [
    {
     "name": "stdout",
     "output_type": "stream",
     "text": [
      "{\n",
      "  \"role\": \"assistant\",\n",
      "  \"function_call\": {\n",
      "    \"name\": \"get_current_cluster_state\",\n",
      "    \"arguments\": \"{\\n  \\\"cluster_name\\\": \\\"DSP\\\"\\n}\"\n",
      "  }\n",
      "}\n",
      "{'cluster_name': 'DSP'}\n",
      "cluster:DSP\n",
      "{\n",
      "  \"role\": \"assistant\",\n",
      "  \"content\": \"The cluster 'DSP' is currently failing to pull the Docker image \\\"chaocai/docker/dsp:latest\\\". \\n\\nThis could be due to several reasons:\\n\\n1. Network Issues: Please make sure your server has a proper internet connection and the Docker store is accessible.\\n2. Docker Repository Accessibility: Ensure the Docker image referred to is made public or your cluster has the proper authentication/permissions to access the private repository.\\n3. Typographical Error: Please check if the Docker repository/image name is correct.\\n\\nTo solve this, you can try the following:\\n\\n1. Check your network connection and the Docker repository's availability.\\n2. Verify the Docker image name and tag. It is case sensitive.\\n3. If the repository is private, please provide the necessary permissions or credentials for authentication.\\n4. Try pulling the image manually on the cluster machine to see if there's any specific error.\"\n",
      "}\n",
      "The cluster 'DSP' is currently failing to pull the Docker image \"chaocai/docker/dsp:latest\". \n",
      "\n",
      "This could be due to several reasons:\n",
      "\n",
      "1. Network Issues: Please make sure your server has a proper internet connection and the Docker store is accessible.\n",
      "2. Docker Repository Accessibility: Ensure the Docker image referred to is made public or your cluster has the proper authentication/permissions to access the private repository.\n",
      "3. Typographical Error: Please check if the Docker repository/image name is correct.\n",
      "\n",
      "To solve this, you can try the following:\n",
      "\n",
      "1. Check your network connection and the Docker repository's availability.\n",
      "2. Verify the Docker image name and tag. It is case sensitive.\n",
      "3. If the repository is private, please provide the necessary permissions or credentials for authentication.\n",
      "4. Try pulling the image manually on the cluster machine to see if there's any specific error.\n"
     ]
    }
   ],
   "source": [
    "#run(\"Hello\")\n",
    "print(run(\"What's wrong with the cluster 'DSP'? And if there's an error, give me some suggestion. \"))"
   ]
  },
  {
   "cell_type": "code",
   "execution_count": null,
   "id": "b86826e9",
   "metadata": {},
   "outputs": [],
   "source": []
  }
 ],
 "metadata": {
  "kernelspec": {
   "display_name": "Python 3 (ipykernel)",
   "language": "python",
   "name": "python3"
  },
  "language_info": {
   "codemirror_mode": {
    "name": "ipython",
    "version": 3
   },
   "file_extension": ".py",
   "mimetype": "text/x-python",
   "name": "python",
   "nbconvert_exporter": "python",
   "pygments_lexer": "ipython3",
   "version": "3.11.4"
  }
 },
 "nbformat": 4,
 "nbformat_minor": 5
}
